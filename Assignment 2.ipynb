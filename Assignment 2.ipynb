{
 "cells": [
  {
   "cell_type": "code",
   "execution_count": 3,
   "id": "4fcea8aa-212d-425a-b903-b231cf061ada",
   "metadata": {},
   "outputs": [
    {
     "name": "stdin",
     "output_type": "stream",
     "text": [
      "Enter hours worked above 40:\n",
      " 45\n"
     ]
    },
    {
     "name": "stdout",
     "output_type": "stream",
     "text": [
      "475.0\n"
     ]
    }
   ],
   "source": [
    "inp = input('Enter hours worked above 40:\\n')\n",
    "hours = float(inp)\n",
    "rate = 10\n",
    "pay = (40 * rate) + (1.5 * rate *(hours - 40))\n",
    "if hours > 40 :\n",
    "    print(pay)\n",
    "else:\n",
    "    print(pay * hours)"
   ]
  },
  {
   "cell_type": "code",
   "execution_count": 4,
   "id": "c246384d-abc9-4b47-a359-4ca229a49391",
   "metadata": {},
   "outputs": [
    {
     "name": "stdin",
     "output_type": "stream",
     "text": [
      "enter hours:\n",
      " 20\n",
      "enter rate:\n",
      " nine\n"
     ]
    },
    {
     "name": "stdout",
     "output_type": "stream",
     "text": [
      "please enter numeric input\n"
     ]
    }
   ],
   "source": [
    "inp = input('enter hours:\\n')\n",
    "inp = input('enter rate:\\n')\n",
    "try:\n",
    "    hours = float(input)\n",
    "    rate = float(input)\n",
    "    pay = (hours * rate)\n",
    "    print(pay)\n",
    "except:\n",
    "    print('please enter numeric input')"
   ]
  },
  {
   "cell_type": "code",
   "execution_count": 8,
   "id": "0b662730-ac4a-4a53-b73b-c0a478dc9d99",
   "metadata": {},
   "outputs": [
    {
     "name": "stdin",
     "output_type": "stream",
     "text": [
      "enter hours:\n",
      " forty\n"
     ]
    },
    {
     "name": "stdout",
     "output_type": "stream",
     "text": [
      "please enter numeric input\n"
     ]
    }
   ],
   "source": [
    "inp = input('enter hours:\\n')\n",
    "try:\n",
    "    hours = float(input)\n",
    "    rate = 9\n",
    "    pay = (hours * rate)\n",
    "    print(pay)\n",
    "except:\n",
    "    print('please enter numeric input')"
   ]
  },
  {
   "cell_type": "code",
   "execution_count": 12,
   "id": "cc73c009-ef81-4d56-ac7c-8de43d7597b7",
   "metadata": {},
   "outputs": [
    {
     "name": "stdin",
     "output_type": "stream",
     "text": [
      "enter score:\n",
      " 0.95\n"
     ]
    },
    {
     "name": "stdout",
     "output_type": "stream",
     "text": [
      "A\n"
     ]
    }
   ],
   "source": [
    "inp =input ('enter score:\\n')\n",
    "score = float(inp)\n",
    "if score >= 0.9:\n",
    "    print('A')\n",
    "elif score >= 0.8 :\n",
    "    print('B')\n",
    "elif score >= 0.7 :\n",
    "    print('C')\n",
    "elif score >= 0.6 :\n",
    "    print('D')\n",
    "elif score < 0.6 :\n",
    "    print('F')\n",
    "elif score > 1.0:\n",
    "    print('Bad score')\n"
   ]
  },
  {
   "cell_type": "code",
   "execution_count": 22,
   "id": "b77fbaed-6ec7-4fda-b444-8989c1fa58c7",
   "metadata": {},
   "outputs": [
    {
     "name": "stdin",
     "output_type": "stream",
     "text": [
      "enter score:\n",
      " perfect\n"
     ]
    },
    {
     "ename": "TypeError",
     "evalue": "'>' not supported between instances of 'str' and 'float'",
     "output_type": "error",
     "traceback": [
      "\u001b[1;31m---------------------------------------------------------------------------\u001b[0m",
      "\u001b[1;31mTypeError\u001b[0m                                 Traceback (most recent call last)",
      "\u001b[1;32m<ipython-input-22-3664436b6432>\u001b[0m in \u001b[0;36m<module>\u001b[1;34m\u001b[0m\n\u001b[0;32m      1\u001b[0m \u001b[0minp\u001b[0m \u001b[1;33m=\u001b[0m \u001b[0minput\u001b[0m\u001b[1;33m(\u001b[0m\u001b[1;34m'enter score:\\n'\u001b[0m\u001b[1;33m)\u001b[0m\u001b[1;33m\u001b[0m\u001b[1;33m\u001b[0m\u001b[0m\n\u001b[0;32m      2\u001b[0m \u001b[0mscore\u001b[0m \u001b[1;33m=\u001b[0m \u001b[0mstr\u001b[0m\u001b[1;33m(\u001b[0m\u001b[0minp\u001b[0m\u001b[1;33m)\u001b[0m\u001b[1;33m\u001b[0m\u001b[1;33m\u001b[0m\u001b[0m\n\u001b[1;32m----> 3\u001b[1;33m \u001b[1;32mif\u001b[0m \u001b[0mscore\u001b[0m \u001b[1;33m>\u001b[0m \u001b[1;36m1.0\u001b[0m\u001b[1;33m:\u001b[0m\u001b[1;33m\u001b[0m\u001b[1;33m\u001b[0m\u001b[0m\n\u001b[0m\u001b[0;32m      4\u001b[0m     \u001b[0mprint\u001b[0m\u001b[1;33m(\u001b[0m\u001b[1;34m'Bad score'\u001b[0m\u001b[1;33m)\u001b[0m\u001b[1;33m\u001b[0m\u001b[1;33m\u001b[0m\u001b[0m\n\u001b[0;32m      5\u001b[0m \u001b[1;32melse\u001b[0m\u001b[1;33m:\u001b[0m\u001b[1;33m\u001b[0m\u001b[1;33m\u001b[0m\u001b[0m\n",
      "\u001b[1;31mTypeError\u001b[0m: '>' not supported between instances of 'str' and 'float'"
     ]
    }
   ],
   "source": [
    "inp =input ('enter score:\\n')\n",
    "score = float(inp)\n",
    "if score >= 0.9:\n",
    "    print('A')\n",
    "elif score >= 0.8 :\n",
    "    print('B')\n",
    "elif score >= 0.7 :\n",
    "    print('C')\n",
    "elif score >= 0.6 :\n",
    "    print('D')\n",
    "elif score < 0.6 :\n",
    "    print('F')\n",
    "elif score > 1.0:\n",
    "    print('Bad score')\n",
    "else:\n",
    "    print('Bad score')\n",
    "    "
   ]
  },
  {
   "cell_type": "code",
   "execution_count": 18,
   "id": "ecf11629-6b16-467b-98a2-4cacf09b8c76",
   "metadata": {},
   "outputs": [
    {
     "name": "stdin",
     "output_type": "stream",
     "text": [
      "enter score:\n",
      " 10\n"
     ]
    },
    {
     "name": "stdout",
     "output_type": "stream",
     "text": [
      "Bad score\n"
     ]
    }
   ],
   "source": [
    "inp =input ('enter score:\\n')\n",
    "score = float(inp)\n",
    "if score >=1.0:\n",
    "    print('Bad score')\n",
    "elif score >= 0.9 :\n",
    "    print('A')\n",
    "elif score >= 0.8 :\n",
    "    print('B')\n",
    "elif score >= 0.7 :\n",
    "    print('C')\n",
    "elif score >= 0.6 :\n",
    "    print('D')\n",
    "elif score < 0.6 :\n",
    "    print('F')\n",
    "else:\n",
    "    print('Bad score')"
   ]
  },
  {
   "cell_type": "code",
   "execution_count": 19,
   "id": "a983474b-732a-4a78-9d27-7a15e8b65a86",
   "metadata": {},
   "outputs": [
    {
     "name": "stdin",
     "output_type": "stream",
     "text": [
      "enter score:\n",
      " 0.75\n"
     ]
    },
    {
     "name": "stdout",
     "output_type": "stream",
     "text": [
      "C\n"
     ]
    }
   ],
   "source": [
    "inp =input ('enter score:\\n')\n",
    "score = float(inp)\n",
    "if score >= 0.9:\n",
    "    print('A')\n",
    "elif score >= 0.8 :\n",
    "    print('B')\n",
    "elif score >= 0.7 :\n",
    "    print('C')\n",
    "elif score >= 0.6 :\n",
    "    print('D')\n",
    "elif score < 0.6 :\n",
    "    print('F')\n",
    "elif score > 1.0:\n",
    "    print('Bad score')\n",
    "else:\n",
    "    print('Bad score')"
   ]
  },
  {
   "cell_type": "code",
   "execution_count": 20,
   "id": "23a61cec-9ffd-4aa0-a90f-f77fddbb6c4f",
   "metadata": {},
   "outputs": [
    {
     "name": "stdin",
     "output_type": "stream",
     "text": [
      "enter score:\n",
      " 0.5\n"
     ]
    },
    {
     "name": "stdout",
     "output_type": "stream",
     "text": [
      "F\n"
     ]
    }
   ],
   "source": [
    "inp =input ('enter score:\\n')\n",
    "score = float(inp)\n",
    "if score >= 0.9:\n",
    "    print('A')\n",
    "elif score >= 0.8 :\n",
    "    print('B')\n",
    "elif score >= 0.7 :\n",
    "    print('C')\n",
    "elif score >= 0.6 :\n",
    "    print('D')\n",
    "elif score < 0.6 :\n",
    "    print('F')\n",
    "elif score > 1.0:\n",
    "    print('Bad score')\n",
    "else:\n",
    "    print('Bad score')"
   ]
  },
  {
   "cell_type": "code",
   "execution_count": null,
   "id": "7594e188-1844-4143-931a-7d64c90694ef",
   "metadata": {},
   "outputs": [],
   "source": []
  }
 ],
 "metadata": {
  "kernelspec": {
   "display_name": "Python 3",
   "language": "python",
   "name": "python3"
  },
  "language_info": {
   "codemirror_mode": {
    "name": "ipython",
    "version": 3
   },
   "file_extension": ".py",
   "mimetype": "text/x-python",
   "name": "python",
   "nbconvert_exporter": "python",
   "pygments_lexer": "ipython3",
   "version": "3.8.8"
  }
 },
 "nbformat": 4,
 "nbformat_minor": 5
}
