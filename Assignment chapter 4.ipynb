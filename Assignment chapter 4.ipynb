{
 "cells": [
  {
   "cell_type": "code",
   "execution_count": 2,
   "id": "96c0f1c2-750a-4a68-b51b-688ef1094080",
   "metadata": {},
   "outputs": [],
   "source": [
    "# what is the purpose of the \"def\" keyboard in python?\n",
    "# It is to indicate the start of function"
   ]
  },
  {
   "cell_type": "code",
   "execution_count": 3,
   "id": "37436e31-f6c0-4676-ac70-8ae2137f8079",
   "metadata": {},
   "outputs": [
    {
     "name": "stdout",
     "output_type": "stream",
     "text": [
      "ABC\n",
      "zap\n",
      "ABC\n"
     ]
    }
   ],
   "source": [
    "def fred():\n",
    "    print(\"zap\")\n",
    "    \n",
    "def jane():\n",
    "    print(\"ABC\")\n",
    "    \n",
    "jane()\n",
    "fred()\n",
    "jane()\n"
   ]
  },
  {
   "cell_type": "code",
   "execution_count": 7,
   "id": "77421526-ebc4-4af3-8b7a-a89fb7c75719",
   "metadata": {},
   "outputs": [
    {
     "name": "stdin",
     "output_type": "stream",
     "text": [
      "Enter Hours:  45\n",
      "Enter Rate:  10\n"
     ]
    },
    {
     "name": "stdout",
     "output_type": "stream",
     "text": [
      "Pay:  475.0\n"
     ]
    }
   ],
   "source": [
    "def computepay(hours,rate):\n",
    "    if hours > 40:\n",
    "        pay = (40 * rate) + (1.5 * rate *(hours - 40))\n",
    "    else:\n",
    "        print(pay * hours)\n",
    "    return pay\n",
    "\n",
    "hours = int(input('Enter Hours: '))\n",
    "rate = int(input('Enter Rate: '))\n",
    "pay = computepay(hours, rate)\n",
    "print('Pay: ',pay)"
   ]
  },
  {
   "cell_type": "code",
   "execution_count": 13,
   "id": "8f62b979-708f-4415-8759-46a9cc41cca7",
   "metadata": {},
   "outputs": [
    {
     "name": "stdin",
     "output_type": "stream",
     "text": [
      "Enter score:  0.95\n"
     ]
    },
    {
     "name": "stdout",
     "output_type": "stream",
     "text": [
      "A\n"
     ]
    }
   ],
   "source": [
    "def computegrade(score):\n",
    "    Grade = ('A, B, C, D, F')\n",
    "    return grade\n",
    "try:\n",
    "    score = float(input('Enter score: '))\n",
    "except Exception as ValueError:\n",
    "    print('Bad score')\n",
    "else:\n",
    "    if score >= 0.9:\n",
    "        print('A')\n",
    "    elif score >= 0.8 :\n",
    "        print('B')\n",
    "    elif score >= 0.7 :\n",
    "        print('C')\n",
    "    elif score >= 0.6 :\n",
    "        print('D')\n",
    "    elif score < 0.6 :\n",
    "        print('F')\n"
   ]
  },
  {
   "cell_type": "code",
   "execution_count": 14,
   "id": "385f24b7-a610-4369-9919-06a0b43e583d",
   "metadata": {},
   "outputs": [
    {
     "name": "stdin",
     "output_type": "stream",
     "text": [
      "Enter score:  Perfect\n"
     ]
    },
    {
     "name": "stdout",
     "output_type": "stream",
     "text": [
      "Bad score\n"
     ]
    }
   ],
   "source": [
    "def computegrade(score):\n",
    "    Grade = ('A, B, C, D, F')\n",
    "    return grade\n",
    "try:\n",
    "    score = float(input('Enter score: '))\n",
    "except Exception as ValueError:\n",
    "    print('Bad score')\n",
    "else:\n",
    "    if score >= 0.9:\n",
    "        print('A')\n",
    "    elif score >= 0.8 :\n",
    "        print('B')\n",
    "    elif score >= 0.7 :\n",
    "        print('C')\n",
    "    elif score >= 0.6 :\n",
    "        print('D')\n",
    "    elif score < 0.6 :\n",
    "        print('F')"
   ]
  },
  {
   "cell_type": "code",
   "execution_count": 23,
   "id": "5e67a4df-f36b-4a93-8db4-24a57fc4433a",
   "metadata": {},
   "outputs": [
    {
     "name": "stdin",
     "output_type": "stream",
     "text": [
      "Enter score:  10\n"
     ]
    },
    {
     "name": "stdout",
     "output_type": "stream",
     "text": [
      "Bad score\n"
     ]
    }
   ],
   "source": [
    "def computegrade(score):\n",
    "    Grade = ('A, B, C, D, F')\n",
    "    return grade\n",
    "try:\n",
    "    score = float(input('Enter score: ',))\n",
    "except Exception as ValueError:\n",
    "    print('Bad score')\n",
    "else:\n",
    "    if score > 0 < 10:\n",
    "        print('Bad score')\n",
    "    elif score >= 0.9:\n",
    "        print('A')\n",
    "    elif score >= 0.8 :\n",
    "        print('B')\n",
    "    elif score >= 0.7 :\n",
    "        print('C')\n",
    "    elif score >= 0.6 :\n",
    "        print('D')\n",
    "    elif score < 0.6 :\n",
    "        print('F')"
   ]
  },
  {
   "cell_type": "code",
   "execution_count": 20,
   "id": "cbc98b9c-b6fd-4451-8e2f-ee24e361149d",
   "metadata": {},
   "outputs": [
    {
     "name": "stdin",
     "output_type": "stream",
     "text": [
      "Enter score:  0.75\n"
     ]
    },
    {
     "name": "stdout",
     "output_type": "stream",
     "text": [
      "C\n"
     ]
    }
   ],
   "source": [
    "def computegrade(score):\n",
    "    Grade = ('A, B, C, D, F')\n",
    "    return grade\n",
    "try:\n",
    "    score = float(input('Enter score: ',))\n",
    "except Exception as ValueError:\n",
    "    print('Bad score')\n",
    "else:\n",
    "    if score >= 0.9:\n",
    "        print('A')\n",
    "    elif score >= 0.8 :\n",
    "        print('B')\n",
    "    elif score >= 0.7 :\n",
    "        print('C')\n",
    "    elif score >= 0.6 :\n",
    "        print('D')\n",
    "    elif score < 0.6 :\n",
    "        print('F')"
   ]
  },
  {
   "cell_type": "code",
   "execution_count": 17,
   "id": "d78d3cad-9f6f-4ce9-a443-80a6adc3be93",
   "metadata": {},
   "outputs": [
    {
     "name": "stdin",
     "output_type": "stream",
     "text": [
      "Enter score:  0.5\n"
     ]
    },
    {
     "name": "stdout",
     "output_type": "stream",
     "text": [
      "F\n"
     ]
    }
   ],
   "source": [
    "def computegrade(score):\n",
    "    Grade = ('A, B, C, D, F')\n",
    "    return grade\n",
    "try:\n",
    "    score = float(input('Enter score: '))\n",
    "except Exception as ValueError:\n",
    "    print('Bad score')\n",
    "else:\n",
    "    if score >= 0.9:\n",
    "        print('A')\n",
    "    elif score >= 0.8 :\n",
    "        print('B')\n",
    "    elif score >= 0.7 :\n",
    "        print('C')\n",
    "    elif score >= 0.6 :\n",
    "        print('D')\n",
    "    elif score < 0.6 :\n",
    "        print('F')"
   ]
  },
  {
   "cell_type": "code",
   "execution_count": null,
   "id": "fc9d3ff8-d660-4227-a738-11d4ede272ad",
   "metadata": {},
   "outputs": [],
   "source": []
  }
 ],
 "metadata": {
  "kernelspec": {
   "display_name": "Python 3",
   "language": "python",
   "name": "python3"
  },
  "language_info": {
   "codemirror_mode": {
    "name": "ipython",
    "version": 3
   },
   "file_extension": ".py",
   "mimetype": "text/x-python",
   "name": "python",
   "nbconvert_exporter": "python",
   "pygments_lexer": "ipython3",
   "version": "3.8.8"
  }
 },
 "nbformat": 4,
 "nbformat_minor": 5
}
