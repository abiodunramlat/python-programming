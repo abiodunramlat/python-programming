{
 "cells": [
  {
   "cell_type": "code",
   "execution_count": 28,
   "id": "183e8260-9f37-485c-9dc7-328deaac5190",
   "metadata": {},
   "outputs": [
    {
     "data": {
      "text/plain": [
       "6"
      ]
     },
     "execution_count": 28,
     "metadata": {},
     "output_type": "execute_result"
    }
   ],
   "source": [
    "5\n",
    "x=5\n",
    "x+1"
   ]
  },
  {
   "cell_type": "code",
   "execution_count": 30,
   "id": "77eb2746-7f78-4b81-b4e0-8130518659c1",
   "metadata": {},
   "outputs": [
    {
     "name": "stdin",
     "output_type": "stream",
     "text": [
      "what is your name?\n",
      " chuck\n",
      "welcome name\n",
      " hello chuck\n"
     ]
    }
   ],
   "source": [
    "prompt = 'what is your name?\\n'\n",
    "name = input(prompt)\n",
    "prompt = 'welcome name\\n'\n",
    "name = input(prompt)"
   ]
  },
  {
   "cell_type": "code",
   "execution_count": 31,
   "id": "a119bc66-455a-4822-b5ad-082b596b5719",
   "metadata": {},
   "outputs": [
    {
     "name": "stdout",
     "output_type": "stream",
     "text": [
      "96.25\n"
     ]
    }
   ],
   "source": [
    "hours = 35\n",
    "rate = 2.75\n",
    "pay = hours*rate\n",
    "print(pay)"
   ]
  },
  {
   "cell_type": "code",
   "execution_count": 27,
   "id": "bb7c16bb-c1e4-4f03-bc5a-bc3ca348f51a",
   "metadata": {},
   "outputs": [
    {
     "name": "stdout",
     "output_type": "stream",
     "text": [
      "8\n",
      "8.5\n",
      "4.0\n",
      "11\n"
     ]
    },
    {
     "data": {
      "text/plain": [
       "int"
      ]
     },
     "execution_count": 27,
     "metadata": {},
     "output_type": "execute_result"
    }
   ],
   "source": [
    "width = 17\n",
    "height = 12.0\n",
    "print(width//2)\n",
    "print(width/2.0)\n",
    "print(height/3)\n",
    "print(1+2*5)\n",
    "type(width//2)\n",
    "type(width/2.0)\n",
    "type(height/3)\n",
    "type(1+2*5)"
   ]
  },
  {
   "cell_type": "code",
   "execution_count": 20,
   "id": "602f8537-98d7-4055-938b-a71dd5c1d284",
   "metadata": {},
   "outputs": [
    {
     "name": "stdin",
     "output_type": "stream",
     "text": [
      "what is Temperature value in Celsius?\n",
      " 37\n"
     ]
    },
    {
     "name": "stdout",
     "output_type": "stream",
     "text": [
      "37.00 Celsius is: 98.60 fahrenheit\n"
     ]
    }
   ],
   "source": [
    "Celsius= float(input('what is Temperature value in Celsius?\\n'))\n",
    "               \n",
    "# For converting the temperature in degree celsius to degree fahrenheit\n",
    "# given formula\n",
    "Fahrenheit=(Celsius * 1.8) + 32\n",
    "\n",
    "\n",
    "# print the result\n",
    "print('%.2f Celsius is: %0.2f fahrenheit' %(Celsius, Fahrenheit))\n"
   ]
  },
  {
   "cell_type": "code",
   "execution_count": null,
   "id": "7681f3d4-9a16-49a3-b329-04e75dcefd71",
   "metadata": {},
   "outputs": [],
   "source": []
  }
 ],
 "metadata": {
  "kernelspec": {
   "display_name": "Python 3",
   "language": "python",
   "name": "python3"
  },
  "language_info": {
   "codemirror_mode": {
    "name": "ipython",
    "version": 3
   },
   "file_extension": ".py",
   "mimetype": "text/x-python",
   "name": "python",
   "nbconvert_exporter": "python",
   "pygments_lexer": "ipython3",
   "version": "3.8.8"
  }
 },
 "nbformat": 4,
 "nbformat_minor": 5
}
